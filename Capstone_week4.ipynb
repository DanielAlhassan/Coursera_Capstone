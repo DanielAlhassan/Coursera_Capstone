{
 "cells": [
  {
   "cell_type": "markdown",
   "metadata": {},
   "source": [
    "# <font color='red'>Applied Data Science Capstone Project</font> \n",
    "\n",
    "## The Battle of Neighborhoods \n",
    "\n",
    "#### <font color='blue'>Title: To setup or not to setup a restaurant in California</font> \n",
    "\n",
    "---\n",
    "\n",
    "_By: Daniel A. Alhassan_"
   ]
  },
  {
   "cell_type": "markdown",
   "metadata": {},
   "source": [
    " ## Introduction\n",
    " \n",
    " Abeledata Inc.,a client wants to extend its restaurant business to other states in the US. As such she plans to open one of their restaurant businesses in California. However, there is a problem! California is big and as a profit making business she would want to open the restaurant in particular location that will ensure she attracts a large pool of customers and subsequently make good sales.\n",
    " \n",
    "It is up to us (Data Science Team) to determine where Abeledata Inc  should locate or position their business in other to achieve their profit-making goal and customer base."
   ]
  },
  {
   "cell_type": "markdown",
   "metadata": {},
   "source": [
    "## Data \n",
    "\n",
    "To solve Abeledata Inc.'s problem, we will make use of the following list of data: \n",
    "+ California neighborhood data\n",
    "+ location data which encompasses the latitude and longitude coordinates of the area \n",
    "+ data on office venues, schools, other restaurant venues\n",
    "\n",
    "By leveraging this data and other data out team is likely to get, exploring it and using some machine learning alogrithms , we will help our client better decide which vicinity, locality or neighborhood in California to open her restaurant.\n",
    "\n"
   ]
  },
  {
   "cell_type": "code",
   "execution_count": null,
   "metadata": {},
   "outputs": [],
   "source": []
  }
 ],
 "metadata": {
  "kernelspec": {
   "display_name": "Python 3",
   "language": "python",
   "name": "python3"
  },
  "language_info": {
   "codemirror_mode": {
    "name": "ipython",
    "version": 3
   },
   "file_extension": ".py",
   "mimetype": "text/x-python",
   "name": "python",
   "nbconvert_exporter": "python",
   "pygments_lexer": "ipython3",
   "version": "3.7.3"
  }
 },
 "nbformat": 4,
 "nbformat_minor": 2
}
